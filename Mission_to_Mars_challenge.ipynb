{
 "cells": [
  {
   "cell_type": "code",
   "execution_count": 1,
   "id": "95cf4076",
   "metadata": {},
   "outputs": [],
   "source": [
    "#Import splinter and beautifulsoup\n",
    "\n",
    "from splinter import Browser\n",
    "\n",
    "from bs4 import BeautifulSoup as soup\n",
    "\n",
    "from webdriver_manager.chrome import ChromeDriverManager\n",
    "\n",
    "import pandas as pd\n"
   ]
  },
  {
   "cell_type": "code",
   "execution_count": 2,
   "id": "10767a35",
   "metadata": {},
   "outputs": [],
   "source": [
    "executable_path = {'executable_path': ChromeDriverManager().install()}\n",
    "browser = Browser('chrome', **executable_path, headless=False)"
   ]
  },
  {
   "cell_type": "code",
   "execution_count": null,
   "id": "045ef517",
   "metadata": {},
   "outputs": [],
   "source": [
    "#Visit the mars nasa news site\n",
    "\n",
    "url = 'https://redplanetscience.com'\n",
    "\n",
    "browser.visit(url)\n",
    "\n",
    "#Optional delay for loading the page\n",
    "\n",
    "browser.is_element_present_by_css('div.list_text', wait_time=1)\n",
    "\n"
   ]
  },
  {
   "cell_type": "code",
   "execution_count": null,
   "id": "0bc07e8f",
   "metadata": {},
   "outputs": [],
   "source": [
    "#Set the html parser\n",
    "\n",
    "html = browser.html\n",
    "\n",
    "new_soup = soup(html, 'html.parser')\n",
    "\n",
    "slide_elem = new_soup.select_one('div.list_text')\n",
    "\n"
   ]
  },
  {
   "cell_type": "code",
   "execution_count": null,
   "id": "2574e905",
   "metadata": {},
   "outputs": [],
   "source": [
    "slide_elem.find('div', class_ = 'content_title')"
   ]
  },
  {
   "cell_type": "code",
   "execution_count": null,
   "id": "6909f816",
   "metadata": {},
   "outputs": [],
   "source": [
    "#Use the parent elements to find the first 'a' tag and save it as 'news_title'\n",
    "\n",
    "news_title = slide_elem.find('div', class_ = 'content_title').get_text()\n",
    "\n",
    "news_title"
   ]
  },
  {
   "cell_type": "code",
   "execution_count": null,
   "id": "baf8ec7c",
   "metadata": {},
   "outputs": [],
   "source": [
    "#use the parent element to find the paragraph text\n",
    "\n",
    "news_p = slide_elem.find('div', class_ = 'article_teaser_body').get_text()\n",
    "news_p"
   ]
  },
  {
   "cell_type": "markdown",
   "id": "263c2e90",
   "metadata": {},
   "source": [
    "### Featured Images"
   ]
  },
  {
   "cell_type": "code",
   "execution_count": null,
   "id": "499c9a27",
   "metadata": {},
   "outputs": [],
   "source": [
    "#visit the URL to take the image for our code\n",
    "\n",
    "url = 'https://spaceimages-mars.com'\n",
    "\n",
    "browser.visit(url)"
   ]
  },
  {
   "cell_type": "code",
   "execution_count": null,
   "id": "f9e6b4c2",
   "metadata": {},
   "outputs": [],
   "source": [
    "#Find and click the full image button\n",
    "\n",
    "full_image_elem = browser.find_by_tag('button')[1]\n",
    "\n",
    "full_image_elem.click()"
   ]
  },
  {
   "cell_type": "code",
   "execution_count": null,
   "id": "45aa1b3d",
   "metadata": {},
   "outputs": [],
   "source": [
    "#Parse the html from this page in order to get the html contents\n",
    "\n",
    "html = browser.html\n",
    "\n",
    "img_soup = soup(html, 'html.parser')\n"
   ]
  },
  {
   "cell_type": "code",
   "execution_count": null,
   "id": "2f3a90b4",
   "metadata": {},
   "outputs": [],
   "source": [
    "#Get the relative path to the image URL\n",
    "\n",
    "img_url_rel = img_soup.find('img', class_= 'fancybox-image').get('src')\n",
    "img_url_rel"
   ]
  },
  {
   "cell_type": "code",
   "execution_count": null,
   "id": "ff0f2a12",
   "metadata": {},
   "outputs": [],
   "source": [
    "#Use the base URL to create an absolute URL\n",
    "\n",
    "img_url = f'https://spaceimages-mars.com/{img_url_rel}'\n",
    "\n",
    "img_url"
   ]
  },
  {
   "cell_type": "code",
   "execution_count": null,
   "id": "b11ce963",
   "metadata": {},
   "outputs": [],
   "source": [
    "#Use pandas to get all the rows in the mars facts webpage\n",
    "\n",
    "df = pd.read_html('https://galaxyfacts-mars.com')[0]\n",
    "df.columns= ['description', 'Mars', 'Earth']\n",
    "\n",
    "df.set_index('description', inplace=True)\n",
    "\n",
    "df"
   ]
  },
  {
   "cell_type": "code",
   "execution_count": null,
   "id": "302b49dd",
   "metadata": {},
   "outputs": [],
   "source": [
    "browser.quit()"
   ]
  },
  {
   "cell_type": "code",
   "execution_count": null,
   "id": "d12c6be4",
   "metadata": {},
   "outputs": [],
   "source": [
    "df.to_html()"
   ]
  },
  {
   "cell_type": "code",
   "execution_count": null,
   "id": "8a9aaeca",
   "metadata": {},
   "outputs": [],
   "source": [
    "#Hemispheres\n",
    "# 1. Use browser to visit the URL \n",
    "url = 'https://marshemispheres.com/'\n",
    "\n",
    "browser.visit(url)\n",
    "\n",
    "\n"
   ]
  },
  {
   "cell_type": "code",
   "execution_count": null,
   "id": "e0a571ce",
   "metadata": {
    "scrolled": true
   },
   "outputs": [],
   "source": [
    "# 2. Create a list to hold the images and titles.\n",
    "hemisphere_image_urls = []\n",
    "\n",
    "# 3. Write code to retrieve the image urls and titles for each hemisphere.\n",
    "\n",
    "\n",
    "html = browser.html\n",
    "\n",
    "page_soup = soup(html, 'html.parser')\n",
    "\n",
    "mars_soup = page_soup.find('div', class_ = 'collapsible results')\n",
    "    \n",
    "h_links = mars_soup.find_all('h3')\n",
    "\n",
    "#itle_soup = mars_soup.find_all('h3')[0].text\n",
    "\n",
    "for link in h_links:\n",
    "    #Get the title\n",
    "    title = link.text\n",
    "    img_link = browser.find_by_text(link.text)\n",
    "    img_link.click()\n",
    "    html1 = browser.html\n",
    "    img_soup= soup(html1, 'html.parser')\n",
    "    \n",
    "    #scrape the image link\n",
    "    \n",
    "    img_url = 'https://marshemispheres.com/' + str(img_soup.find('img', class_ = 'wide-image')['src'])\n",
    "    #Appende to the dictionary\n",
    "    \n",
    "    url_title = {'img_url': img_url, 'title': title}\n",
    "    \n",
    "    hemisphere_image_urls.append(url_title)\n",
    "    \n",
    "    browser.back()\n",
    "\n",
    "print(hemisphere_image_urls)\n"
   ]
  },
  {
   "cell_type": "code",
   "execution_count": null,
   "id": "016643df",
   "metadata": {},
   "outputs": [],
   "source": [
    "# 4. Print the list that holds the dictionary of each image url and title.\n",
    "hemisphere_image_urls\n",
    "[{'img_url': 'https://marshemispheres.com/images/full.jpg',\n",
    "  'title': 'Cerberus Hemisphere Enhanced'},\n",
    " {'img_url': 'https://marshemispheres.com/images/schiaparelli_enhanced-full.jpg',\n",
    "  'title': 'Schiaparelli Hemisphere Enhanced'},\n",
    " {'img_url': 'https://marshemispheres.com/images/syrtis_major_enhanced-full.jpg',\n",
    "  'title': 'Syrtis Major Hemisphere Enhanced'},\n",
    " {'img_url': 'https://marshemispheres.com/images/valles_marineris_enhanced-full.jpg',\n",
    "  'title': 'Valles Marineris Hemisphere Enhanced'}]"
   ]
  },
  {
   "cell_type": "code",
   "execution_count": 5,
   "id": "5d0cc0c7",
   "metadata": {},
   "outputs": [],
   "source": [
    "# 5. Quit the browser\n",
    "browser.quit()"
   ]
  },
  {
   "cell_type": "code",
   "execution_count": 3,
   "id": "2345b4e9",
   "metadata": {},
   "outputs": [],
   "source": [
    "\n",
    "def hemisphere_data(browser):\n",
    "\n",
    "        # 1. Use browser to visit the URL \n",
    "    url = 'https://marshemispheres.com/'\n",
    "\n",
    "    browser.visit(url)\n",
    "\n",
    "    # 2. Create a list to hold the images and titles.\n",
    "    hemisphere_image_urls = []\n",
    "\n",
    "    # 3. Write code to retrieve the image urls and titles for each hemisphere.\n",
    "\n",
    "\n",
    "    html = browser.html\n",
    "\n",
    "    page_soup = soup(html, 'html.parser')\n",
    "\n",
    "    mars_soup = page_soup.find('div', class_ = 'collapsible results')\n",
    "        \n",
    "    h_links = mars_soup.find_all('h3')\n",
    "\n",
    "    #itle_soup = mars_soup.find_all('h3')[0].text\n",
    "\n",
    "    for link in h_links:\n",
    "        #Get the title\n",
    "        title = link.text\n",
    "        img_link = browser.find_by_text(link.text)\n",
    "        img_link.click()\n",
    "        html1 = browser.html\n",
    "        img_soup= soup(html1, 'html.parser')\n",
    "        \n",
    "        #scrape the image link\n",
    "        \n",
    "        img_url = 'https://marshemispheres.com/' + str(img_soup.find('img', class_ = 'wide-image')['src'])\n",
    "        #Appende to the dictionary\n",
    "        \n",
    "        url_title = {'img_url': img_url, 'title': title,}\n",
    "        \n",
    "        hemisphere_image_urls.append(url_title)\n",
    "        \n",
    "        browser.back()\n",
    "\n",
    "    return hemisphere_image_urls"
   ]
  },
  {
   "cell_type": "code",
   "execution_count": 4,
   "id": "afd378f4",
   "metadata": {},
   "outputs": [
    {
     "data": {
      "text/plain": [
       "[{'img_url': 'https://marshemispheres.com/images/f5e372a36edfa389625da6d0cc25d905_cerberus_enhanced.tif_full.jpg',\n",
       "  'title': 'Cerberus Hemisphere Enhanced'},\n",
       " {'img_url': 'https://marshemispheres.com/images/3778f7b43bbbc89d6e3cfabb3613ba93_schiaparelli_enhanced.tif_full.jpg',\n",
       "  'title': 'Schiaparelli Hemisphere Enhanced'},\n",
       " {'img_url': 'https://marshemispheres.com/images/555e6403a6ddd7ba16ddb0e471cadcf7_syrtis_major_enhanced.tif_full.jpg',\n",
       "  'title': 'Syrtis Major Hemisphere Enhanced'},\n",
       " {'img_url': 'https://marshemispheres.com/images/b3c7c6c9138f57b4756be9b9c43e3a48_valles_marineris_enhanced.tif_full.jpg',\n",
       "  'title': 'Valles Marineris Hemisphere Enhanced'}]"
      ]
     },
     "execution_count": 4,
     "metadata": {},
     "output_type": "execute_result"
    }
   ],
   "source": [
    "hemisphere_data(browser)"
   ]
  },
  {
   "cell_type": "code",
   "execution_count": null,
   "id": "70d6e131",
   "metadata": {},
   "outputs": [
    {
     "name": "stdout",
     "output_type": "stream",
     "text": [
      " * Serving Flask app \"app\" (lazy loading)\n",
      " * Environment: production\n",
      "\u001b[31m   WARNING: This is a development server. Do not use it in a production deployment.\u001b[0m\n",
      "\u001b[2m   Use a production WSGI server instead.\u001b[0m\n",
      " * Debug mode: off\n"
     ]
    },
    {
     "name": "stderr",
     "output_type": "stream",
     "text": [
      " * Running on http://127.0.0.1:5000/ (Press CTRL+C to quit)\n"
     ]
    }
   ],
   "source": [
    "%run app.py"
   ]
  },
  {
   "cell_type": "code",
   "execution_count": null,
   "id": "14cc46d6",
   "metadata": {},
   "outputs": [],
   "source": []
  },
  {
   "cell_type": "code",
   "execution_count": null,
   "id": "0c0fbdff",
   "metadata": {},
   "outputs": [],
   "source": []
  }
 ],
 "metadata": {
  "kernelspec": {
   "display_name": "PythonData",
   "language": "python",
   "name": "pythondata"
  },
  "language_info": {
   "codemirror_mode": {
    "name": "ipython",
    "version": 3
   },
   "file_extension": ".py",
   "mimetype": "text/x-python",
   "name": "python",
   "nbconvert_exporter": "python",
   "pygments_lexer": "ipython3",
   "version": "3.7.13"
  }
 },
 "nbformat": 4,
 "nbformat_minor": 5
}
